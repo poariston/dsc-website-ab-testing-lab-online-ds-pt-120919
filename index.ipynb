{
 "cells": [
  {
   "cell_type": "markdown",
   "metadata": {},
   "source": [
    "# Website A/B Testing - Lab\n",
    "\n",
    "## Introduction\n",
    "\n",
    "In this lab, you'll get another chance to practice your skills at conducting a full A/B test analysis. It will also be a chance to practice your data exploration and processing skills! The scenario you'll be investigating is data collected from the homepage of a music app page for audacity.\n",
    "\n",
    "## Objectives\n",
    "\n",
    "You will be able to:\n",
    "* Analyze the data from a website A/B test to draw relevant conclusions\n",
    "* Explore and analyze web action data"
   ]
  },
  {
   "cell_type": "markdown",
   "metadata": {},
   "source": [
    "## Exploratory Analysis\n",
    "\n",
    "Start by loading in the dataset stored in the file 'homepage_actions.csv'. Then conduct an exploratory analysis to get familiar with the data."
   ]
  },
  {
   "cell_type": "markdown",
   "metadata": {},
   "source": [
    "> Hints:\n",
    "    * Start investigating the id column:\n",
    "        * How many viewers also clicked?\n",
    "        * Are there any anomalies with the data; did anyone click who didn't view?\n",
    "        * Is there any overlap between the control and experiment groups? \n",
    "            * If so, how do you plan to account for this in your experimental design?"
   ]
  },
  {
   "cell_type": "code",
   "execution_count": 110,
   "metadata": {},
   "outputs": [
    {
     "ename": "ModuleNotFoundError",
     "evalue": "No module named 'flatiron_stats'",
     "output_type": "error",
     "traceback": [
      "\u001b[1;31m---------------------------------------------------------------------------\u001b[0m",
      "\u001b[1;31mModuleNotFoundError\u001b[0m                       Traceback (most recent call last)",
      "\u001b[1;32m<ipython-input-110-00c46ccad713>\u001b[0m in \u001b[0;36m<module>\u001b[1;34m\u001b[0m\n\u001b[0;32m      4\u001b[0m \u001b[1;32mimport\u001b[0m \u001b[0mseaborn\u001b[0m \u001b[1;32mas\u001b[0m \u001b[0msns\u001b[0m\u001b[1;33m\u001b[0m\u001b[1;33m\u001b[0m\u001b[0m\n\u001b[0;32m      5\u001b[0m \u001b[1;32mimport\u001b[0m \u001b[0mscipy\u001b[0m\u001b[1;33m.\u001b[0m\u001b[0mstats\u001b[0m \u001b[1;32mas\u001b[0m \u001b[0mstats\u001b[0m\u001b[1;33m\u001b[0m\u001b[1;33m\u001b[0m\u001b[0m\n\u001b[1;32m----> 6\u001b[1;33m \u001b[1;32mimport\u001b[0m \u001b[0mflatiron_stats\u001b[0m \u001b[1;32mas\u001b[0m \u001b[0mfs\u001b[0m\u001b[1;33m\u001b[0m\u001b[1;33m\u001b[0m\u001b[0m\n\u001b[0m",
      "\u001b[1;31mModuleNotFoundError\u001b[0m: No module named 'flatiron_stats'"
     ]
    }
   ],
   "source": [
    "import pandas as pd\n",
    "import numpy as np\n",
    "import matplotlib.pyplot as plt\n",
    "import seaborn as sns\n",
    "import scipy.stats as stats\n",
    "import flatiron_stats as fs\n"
   ]
  },
  {
   "cell_type": "code",
   "execution_count": 85,
   "metadata": {},
   "outputs": [],
   "source": [
    "#Your code here\n",
    "df=pd.read_csv('homepage_actions.csv')"
   ]
  },
  {
   "cell_type": "code",
   "execution_count": 86,
   "metadata": {},
   "outputs": [
    {
     "data": {
      "text/plain": [
       "(Index(['timestamp', 'id', 'group', 'action'], dtype='object'),\n",
       " RangeIndex(start=0, stop=8188, step=1))"
      ]
     },
     "execution_count": 86,
     "metadata": {},
     "output_type": "execute_result"
    }
   ],
   "source": [
    "df.columns,df.index\n"
   ]
  },
  {
   "cell_type": "code",
   "execution_count": 87,
   "metadata": {},
   "outputs": [
    {
     "data": {
      "text/html": [
       "<div>\n",
       "<style scoped>\n",
       "    .dataframe tbody tr th:only-of-type {\n",
       "        vertical-align: middle;\n",
       "    }\n",
       "\n",
       "    .dataframe tbody tr th {\n",
       "        vertical-align: top;\n",
       "    }\n",
       "\n",
       "    .dataframe thead th {\n",
       "        text-align: right;\n",
       "    }\n",
       "</style>\n",
       "<table border=\"1\" class=\"dataframe\">\n",
       "  <thead>\n",
       "    <tr style=\"text-align: right;\">\n",
       "      <th></th>\n",
       "      <th>id</th>\n",
       "    </tr>\n",
       "  </thead>\n",
       "  <tbody>\n",
       "    <tr>\n",
       "      <th>count</th>\n",
       "      <td>8188.000000</td>\n",
       "    </tr>\n",
       "    <tr>\n",
       "      <th>mean</th>\n",
       "      <td>564699.749878</td>\n",
       "    </tr>\n",
       "    <tr>\n",
       "      <th>std</th>\n",
       "      <td>219085.845672</td>\n",
       "    </tr>\n",
       "    <tr>\n",
       "      <th>min</th>\n",
       "      <td>182988.000000</td>\n",
       "    </tr>\n",
       "    <tr>\n",
       "      <th>25%</th>\n",
       "      <td>373637.500000</td>\n",
       "    </tr>\n",
       "    <tr>\n",
       "      <th>50%</th>\n",
       "      <td>566840.500000</td>\n",
       "    </tr>\n",
       "    <tr>\n",
       "      <th>75%</th>\n",
       "      <td>758078.000000</td>\n",
       "    </tr>\n",
       "    <tr>\n",
       "      <th>max</th>\n",
       "      <td>937217.000000</td>\n",
       "    </tr>\n",
       "  </tbody>\n",
       "</table>\n",
       "</div>"
      ],
      "text/plain": [
       "                  id\n",
       "count    8188.000000\n",
       "mean   564699.749878\n",
       "std    219085.845672\n",
       "min    182988.000000\n",
       "25%    373637.500000\n",
       "50%    566840.500000\n",
       "75%    758078.000000\n",
       "max    937217.000000"
      ]
     },
     "execution_count": 87,
     "metadata": {},
     "output_type": "execute_result"
    }
   ],
   "source": [
    "df.describe()"
   ]
  },
  {
   "cell_type": "code",
   "execution_count": 88,
   "metadata": {},
   "outputs": [
    {
     "data": {
      "text/plain": [
       "array(['experiment', 'control'], dtype=object)"
      ]
     },
     "execution_count": 88,
     "metadata": {},
     "output_type": "execute_result"
    }
   ],
   "source": [
    "df['group'].unique()"
   ]
  },
  {
   "cell_type": "code",
   "execution_count": 89,
   "metadata": {},
   "outputs": [
    {
     "data": {
      "text/plain": [
       "array(['view', 'click'], dtype=object)"
      ]
     },
     "execution_count": 89,
     "metadata": {},
     "output_type": "execute_result"
    }
   ],
   "source": [
    "df['action'].unique()"
   ]
  },
  {
   "cell_type": "code",
   "execution_count": 90,
   "metadata": {},
   "outputs": [
    {
     "data": {
      "text/plain": [
       "view     6328\n",
       "click    1860\n",
       "Name: action, dtype: int64"
      ]
     },
     "execution_count": 90,
     "metadata": {},
     "output_type": "execute_result"
    }
   ],
   "source": [
    "df.action.value_counts()"
   ]
  },
  {
   "cell_type": "code",
   "execution_count": 91,
   "metadata": {},
   "outputs": [
    {
     "data": {
      "text/html": [
       "<div>\n",
       "<style scoped>\n",
       "    .dataframe tbody tr th:only-of-type {\n",
       "        vertical-align: middle;\n",
       "    }\n",
       "\n",
       "    .dataframe tbody tr th {\n",
       "        vertical-align: top;\n",
       "    }\n",
       "\n",
       "    .dataframe thead th {\n",
       "        text-align: right;\n",
       "    }\n",
       "</style>\n",
       "<table border=\"1\" class=\"dataframe\">\n",
       "  <thead>\n",
       "    <tr style=\"text-align: right;\">\n",
       "      <th></th>\n",
       "      <th>timestamp</th>\n",
       "      <th>id</th>\n",
       "      <th>group</th>\n",
       "      <th>action</th>\n",
       "    </tr>\n",
       "  </thead>\n",
       "  <tbody>\n",
       "    <tr>\n",
       "      <th>0</th>\n",
       "      <td>2016-09-24 17:42:27.839496</td>\n",
       "      <td>804196</td>\n",
       "      <td>experiment</td>\n",
       "      <td>view</td>\n",
       "    </tr>\n",
       "    <tr>\n",
       "      <th>1</th>\n",
       "      <td>2016-09-24 19:19:03.542569</td>\n",
       "      <td>434745</td>\n",
       "      <td>experiment</td>\n",
       "      <td>view</td>\n",
       "    </tr>\n",
       "    <tr>\n",
       "      <th>2</th>\n",
       "      <td>2016-09-24 19:36:00.944135</td>\n",
       "      <td>507599</td>\n",
       "      <td>experiment</td>\n",
       "      <td>view</td>\n",
       "    </tr>\n",
       "    <tr>\n",
       "      <th>3</th>\n",
       "      <td>2016-09-24 19:59:02.646620</td>\n",
       "      <td>671993</td>\n",
       "      <td>control</td>\n",
       "      <td>view</td>\n",
       "    </tr>\n",
       "    <tr>\n",
       "      <th>4</th>\n",
       "      <td>2016-09-24 20:26:14.466886</td>\n",
       "      <td>536734</td>\n",
       "      <td>experiment</td>\n",
       "      <td>view</td>\n",
       "    </tr>\n",
       "    <tr>\n",
       "      <th>...</th>\n",
       "      <td>...</td>\n",
       "      <td>...</td>\n",
       "      <td>...</td>\n",
       "      <td>...</td>\n",
       "    </tr>\n",
       "    <tr>\n",
       "      <th>8183</th>\n",
       "      <td>2017-01-18 09:11:41.984113</td>\n",
       "      <td>192060</td>\n",
       "      <td>experiment</td>\n",
       "      <td>view</td>\n",
       "    </tr>\n",
       "    <tr>\n",
       "      <th>8184</th>\n",
       "      <td>2017-01-18 09:42:12.844575</td>\n",
       "      <td>755912</td>\n",
       "      <td>experiment</td>\n",
       "      <td>view</td>\n",
       "    </tr>\n",
       "    <tr>\n",
       "      <th>8185</th>\n",
       "      <td>2017-01-18 10:01:09.026482</td>\n",
       "      <td>458115</td>\n",
       "      <td>experiment</td>\n",
       "      <td>view</td>\n",
       "    </tr>\n",
       "    <tr>\n",
       "      <th>8186</th>\n",
       "      <td>2017-01-18 10:08:51.588469</td>\n",
       "      <td>505451</td>\n",
       "      <td>control</td>\n",
       "      <td>view</td>\n",
       "    </tr>\n",
       "    <tr>\n",
       "      <th>8187</th>\n",
       "      <td>2017-01-18 10:24:08.629327</td>\n",
       "      <td>461199</td>\n",
       "      <td>control</td>\n",
       "      <td>view</td>\n",
       "    </tr>\n",
       "  </tbody>\n",
       "</table>\n",
       "<p>8188 rows × 4 columns</p>\n",
       "</div>"
      ],
      "text/plain": [
       "                       timestamp      id       group action\n",
       "0     2016-09-24 17:42:27.839496  804196  experiment   view\n",
       "1     2016-09-24 19:19:03.542569  434745  experiment   view\n",
       "2     2016-09-24 19:36:00.944135  507599  experiment   view\n",
       "3     2016-09-24 19:59:02.646620  671993     control   view\n",
       "4     2016-09-24 20:26:14.466886  536734  experiment   view\n",
       "...                          ...     ...         ...    ...\n",
       "8183  2017-01-18 09:11:41.984113  192060  experiment   view\n",
       "8184  2017-01-18 09:42:12.844575  755912  experiment   view\n",
       "8185  2017-01-18 10:01:09.026482  458115  experiment   view\n",
       "8186  2017-01-18 10:08:51.588469  505451     control   view\n",
       "8187  2017-01-18 10:24:08.629327  461199     control   view\n",
       "\n",
       "[8188 rows x 4 columns]"
      ]
     },
     "execution_count": 91,
     "metadata": {},
     "output_type": "execute_result"
    }
   ],
   "source": [
    "df\n"
   ]
  },
  {
   "cell_type": "code",
   "execution_count": 92,
   "metadata": {},
   "outputs": [
    {
     "data": {
      "text/html": [
       "<div>\n",
       "<style scoped>\n",
       "    .dataframe tbody tr th:only-of-type {\n",
       "        vertical-align: middle;\n",
       "    }\n",
       "\n",
       "    .dataframe tbody tr th {\n",
       "        vertical-align: top;\n",
       "    }\n",
       "\n",
       "    .dataframe thead th {\n",
       "        text-align: right;\n",
       "    }\n",
       "</style>\n",
       "<table border=\"1\" class=\"dataframe\">\n",
       "  <thead>\n",
       "    <tr style=\"text-align: right;\">\n",
       "      <th></th>\n",
       "      <th>timestamp</th>\n",
       "      <th>id</th>\n",
       "      <th>group</th>\n",
       "      <th>action</th>\n",
       "    </tr>\n",
       "  </thead>\n",
       "  <tbody>\n",
       "    <tr>\n",
       "      <th>7</th>\n",
       "      <td>2016-09-24 20:57:20.336757</td>\n",
       "      <td>349125</td>\n",
       "      <td>experiment</td>\n",
       "      <td>view</td>\n",
       "    </tr>\n",
       "    <tr>\n",
       "      <th>8</th>\n",
       "      <td>2016-09-24 20:58:01.948663</td>\n",
       "      <td>349125</td>\n",
       "      <td>experiment</td>\n",
       "      <td>click</td>\n",
       "    </tr>\n",
       "  </tbody>\n",
       "</table>\n",
       "</div>"
      ],
      "text/plain": [
       "                    timestamp      id       group action\n",
       "7  2016-09-24 20:57:20.336757  349125  experiment   view\n",
       "8  2016-09-24 20:58:01.948663  349125  experiment  click"
      ]
     },
     "execution_count": 92,
     "metadata": {},
     "output_type": "execute_result"
    }
   ],
   "source": [
    "df[df['id'] == 349125]"
   ]
  },
  {
   "cell_type": "code",
   "execution_count": 93,
   "metadata": {},
   "outputs": [
    {
     "name": "stdout",
     "output_type": "stream",
     "text": [
      "349125\n",
      "349125\n"
     ]
    }
   ],
   "source": [
    "# draft, WIP\n",
    "l=list(df.loc[df['action'] == 'click']['id'])\n",
    "for elem in l:\n",
    "    if elem == 349125:\n",
    "        print (elem)\n",
    "l2=df.loc[df['action'] == 'view']['id']\n",
    "for elem in l2:\n",
    "    if elem == 349125:\n",
    "        print (elem)\n"
   ]
  },
  {
   "cell_type": "code",
   "execution_count": 94,
   "metadata": {},
   "outputs": [
    {
     "name": "stdout",
     "output_type": "stream",
     "text": [
      "Number of viewers: 6328 \tNumber of clickers: 1860\n"
     ]
    }
   ],
   "source": [
    "# <1>* How many viewers also clicked?\n",
    "# Looking for duplicated id (multiple rows with same id) and whether there were clicks and views for that id.\n",
    "dfeda= df.copy()\n",
    "dfeda['temp']=1\n",
    "dfsort=dfeda.groupby(by = ['id']).sum()\n",
    "dfsort.describe()\n",
    "# interpretation: at a maximum, a given user appears twice in the dataframe.\n",
    "# it could be click&click click&view view&click view&view (order matters)\n",
    "# we are looking for view&click\n",
    "# cids = set ( df[df.action == 'click'])\n",
    "\n",
    "# set of unique users' ids who clicked\n",
    "cids = set ( df[df.action == 'click']['id'].unique() ) \n",
    "# set of unique users' ids who viewed\n",
    "vids = set ( df[df.action == 'view']['id'].unique() ) \n",
    "\n",
    "print(\"Number of viewers: {} \\tNumber of clickers: {}\".format(len(vids), len(cids)))\n",
    "\n",
    "#     * Are there any anomalies with the data; did anyone click who didn't view?\n",
    "\n",
    "for idnum in list(df.loc[df['action'] == 'click']['id']):\n",
    "    if idnum in list(df.loc[df['action'] == 'view']['id']):\n",
    "        pass\n",
    "    else:\n",
    "        print ( idnum , \"clicked but didn't view\")\n",
    "\n",
    "# Comment: Everyone who clicked, also viewed the homepage! \n",
    "# (Thank goodness!)        \n",
    "                              \n",
    "\n"
   ]
  },
  {
   "cell_type": "code",
   "execution_count": 95,
   "metadata": {},
   "outputs": [
    {
     "name": "stdout",
     "output_type": "stream",
     "text": [
      "(4264, 4) (3924, 4) (8188, 4)\n",
      "timestamp    2016-09-24 19:59:02.646620\n",
      "id                               671993\n",
      "group                           control\n",
      "action                             view\n",
      "Name: 3, dtype: object\n",
      "timestamp    2016-09-24 17:42:27.839496\n",
      "id                               804196\n",
      "group                        experiment\n",
      "action                             view\n",
      "Name: 0, dtype: object\n",
      "timestamp    2017-01-18 10:24:08.629327\n",
      "id                               461199\n",
      "group                           control\n",
      "action                             view\n",
      "Name: 8187, dtype: object\n",
      "timestamp    2017-01-18 10:01:09.026482\n",
      "id                               458115\n",
      "group                        experiment\n",
      "action                             view\n",
      "Name: 8185, dtype: object\n"
     ]
    }
   ],
   "source": [
    "#     * Is there any overlap between the control and experiment groups? \n",
    "dfc=df.loc[df['group'] == 'control']\n",
    "dfe=df.loc[df['group'] == 'experiment']\n",
    "print(dfc.shape,dfe.shape,df.shape)\n",
    "# result: # of controls + number of experiments = total number\n",
    "print(dfc.sort_values(by='timestamp').iloc[0])\n",
    "print(dfe.sort_values(by='timestamp').iloc[0])\n",
    "print(dfc.sort_values(by='timestamp').iloc[-1])\n",
    "print(dfe.sort_values(by='timestamp').iloc[-1])\n",
    "\n",
    "# result: control and experiment were taken at the same time period\n",
    "\n"
   ]
  },
  {
   "cell_type": "code",
   "execution_count": null,
   "metadata": {},
   "outputs": [],
   "source": []
  },
  {
   "cell_type": "markdown",
   "metadata": {},
   "source": [
    "## Conduct a Statistical Test\n",
    "\n",
    "Conduct a statistical test to determine whether the experimental homepage was more effective than that of the control group."
   ]
  },
  {
   "cell_type": "code",
   "execution_count": 96,
   "metadata": {},
   "outputs": [
    {
     "name": "stdout",
     "output_type": "stream",
     "text": [
      "0.22079999999999994 0.23370000000000002 0.0017306666666666666 0.0016033434343434348\n"
     ]
    },
    {
     "data": {
      "image/png": "[encoded data removed]",
      "text/plain": [
       "<Figure size 432x288 with 1 Axes>"
      ]
     },
     "metadata": {
      "needs_background": "light"
     },
     "output_type": "display_data"
    }
   ],
   "source": [
    "#Your code here\n",
    "\n",
    "# metric = rate of # of clicks with respect to # of views\n",
    "\n",
    "# H0 : the experimental homepage was no more effective than that of the control group\n",
    "#     ie. click rate mean is the same for  experiment and control populations\n",
    "\n",
    "# Ha: click rate mean is higher for experiment than for control populations\n",
    "\n",
    "# alpha = 0.05\n",
    "\n",
    "# Decide which test to do.\n",
    "# let's take some samples and see ...\n",
    "smpl_sz=100\n",
    "\n",
    "ctrl=[]\n",
    "exp=[]\n",
    "\n",
    "ndraws = 100\n",
    "for i in range(ndraws):\n",
    "\n",
    "    smpl_ctrl= np.random.choice(dfc['action'],smpl_sz)\n",
    "    ctrl.append ( list(smpl_ctrl).count('click') / smpl_sz )\n",
    "\n",
    "    smpl_exp= np.random.choice(dfe['action'],smpl_sz)\n",
    "    exp.append ( list(smpl_exp).count('click') / smpl_sz )\n",
    "\n",
    "# print(ctrl,exp)\n",
    "\n",
    "print(np.mean(ctrl),np.mean(exp),np.var(ctrl,ddof=1),np.var(exp,ddof=1))\n",
    "\n",
    "sns.distplot(ctrl)\n",
    "sns.distplot(exp)\n",
    "plt.show()\n",
    "\n",
    "# Here I got 2 lists of click rates coming from random choices either from control or experiment.\n",
    "# I was in the mindset of using these 2 lists as samples for the Welch t-test.\n",
    "# BUT \n",
    "# The flatiron solution is to use the control and experiment data as the 2 only samples see below."
   ]
  },
  {
   "cell_type": "code",
   "execution_count": 98,
   "metadata": {},
   "outputs": [
    {
     "name": "stdout",
     "output_type": "stream",
     "text": [
      "                       timestamp      id    group action  count\n",
      "3     2016-09-24 19:59:02.646620  671993  control   view      1\n",
      "9     2016-09-24 21:00:12.278374  560027  control   view      1\n",
      "23    2016-09-25 00:25:14.141290  281985  control   view      1\n",
      "24    2016-09-25 01:14:48.603202  407864  control   view      1\n",
      "25    2016-09-25 02:16:11.046654  342984  control   view      1\n",
      "...                          ...     ...      ...    ...    ...\n",
      "8178  2017-01-18 08:17:12.675797  616692  control   view      1\n",
      "8181  2017-01-18 09:07:37.661143  795585  control   view      1\n",
      "8182  2017-01-18 09:09:17.363917  795585  control  click      1\n",
      "8186  2017-01-18 10:08:51.588469  505451  control   view      1\n",
      "8187  2017-01-18 10:24:08.629327  461199  control   view      1\n",
      "\n",
      "[4264 rows x 5 columns] \n",
      " action  click  view\n",
      "id                 \n",
      "182994    1.0   1.0\n",
      "183089    NaN   1.0\n",
      "183248    1.0   1.0\n",
      "183515    NaN   1.0\n",
      "183524    NaN   1.0\n",
      "...       ...   ...\n",
      "936786    NaN   1.0\n",
      "937003    NaN   1.0\n",
      "937073    NaN   1.0\n",
      "937108    NaN   1.0\n",
      "937217    1.0   1.0\n",
      "\n",
      "[3332 rows x 2 columns]\n",
      "\n",
      " action  click  view\n",
      "id                 \n",
      "182994    1.0   1.0\n",
      "183089    0.0   1.0\n",
      "183248    1.0   1.0\n",
      "183515    0.0   1.0\n",
      "183524    0.0   1.0\n",
      "...       ...   ...\n",
      "936786    0.0   1.0\n",
      "937003    0.0   1.0\n",
      "937073    0.0   1.0\n",
      "937108    0.0   1.0\n",
      "937217    1.0   1.0\n",
      "\n",
      "[3332 rows x 2 columns]\n",
      "action        click    view\n",
      "count   3332.000000  3332.0\n",
      "mean       0.279712     1.0\n",
      "std        0.448925     0.0\n",
      "min        0.000000     1.0\n",
      "25%        0.000000     1.0\n",
      "50%        0.000000     1.0\n",
      "75%        1.000000     1.0\n",
      "max        1.000000     1.0\n",
      "action        click    view\n",
      "count   2996.000000  2996.0\n",
      "mean       0.309746     1.0\n",
      "std        0.462466     0.0\n",
      "min        0.000000     1.0\n",
      "25%        0.000000     1.0\n",
      "50%        0.000000     1.0\n",
      "75%        1.000000     1.0\n",
      "max        1.000000     1.0\n",
      "Sample sizes: \t Control: 3332 \t Experiment: 2996\n",
      "Total Clicks: \t Control: 932.0 \t Experiment: 928.0\n",
      "Average click rate: \t Control: 0.2797118847539016 \t Experiment: 0.3097463284379172\n"
     ]
    },
    {
     "data": {
      "image/png": "[encoded data removed]",
      "text/plain": [
       "<Figure size 432x288 with 1 Axes>"
      ]
     },
     "metadata": {
      "needs_background": "light"
     },
     "output_type": "display_data"
    }
   ],
   "source": [
    "# Flatiron solution approach:\n",
    "\n",
    "df['count'] = 1\n",
    "\n",
    "#Convert clicks into a binary variable on a user-by-user-basis\n",
    "control = df[df.group =='control'].pivot(index ='id', columns = 'action' , values = 'count')\n",
    "print(df[df.group =='control'],'\\n', control) \n",
    "control=control.fillna(value=0)\n",
    "print('\\n', control) \n",
    "print(control.describe())\n",
    "\n",
    "experiment = df[df.group =='experiment'].pivot(index ='id', columns = 'action' , values = 'count')\n",
    "experiment=experiment.fillna(value=0)\n",
    "print(experiment.describe())\n",
    "\n",
    "print(\"Sample sizes: \\t Control: {} \\t Experiment: {}\".format(len(control),len(experiment)))\n",
    "print(\"Total Clicks: \\t Control: {} \\t Experiment: {}\".format(control['click'].sum(),experiment['click'].sum()))\n",
    "print(\"Average click rate: \\t Control: {} \\t Experiment: {}\".format(control['click'].mean(),experiment['click'].mean()))\n",
    "\n",
    "#Then run Welch's test on control['click'] and experiment['click']\n",
    "sns.distplot(control['click'])\n",
    "sns.distplot(experiment['click'])\n",
    "plt.show()"
   ]
  },
  {
   "cell_type": "code",
   "execution_count": 72,
   "metadata": {},
   "outputs": [
    {
     "data": {
      "text/html": [
       "<div>\n",
       "<style scoped>\n",
       "    .dataframe tbody tr th:only-of-type {\n",
       "        vertical-align: middle;\n",
       "    }\n",
       "\n",
       "    .dataframe tbody tr th {\n",
       "        vertical-align: top;\n",
       "    }\n",
       "\n",
       "    .dataframe thead th {\n",
       "        text-align: right;\n",
       "    }\n",
       "</style>\n",
       "<table border=\"1\" class=\"dataframe\">\n",
       "  <thead>\n",
       "    <tr style=\"text-align: right;\">\n",
       "      <th></th>\n",
       "      <th>timestamp</th>\n",
       "      <th>id</th>\n",
       "      <th>group</th>\n",
       "      <th>action</th>\n",
       "      <th>count</th>\n",
       "    </tr>\n",
       "  </thead>\n",
       "  <tbody>\n",
       "    <tr>\n",
       "      <th>0</th>\n",
       "      <td>2016-09-24 17:42:27.839496</td>\n",
       "      <td>804196</td>\n",
       "      <td>experiment</td>\n",
       "      <td>view</td>\n",
       "      <td>1</td>\n",
       "    </tr>\n",
       "    <tr>\n",
       "      <th>1</th>\n",
       "      <td>2016-09-24 19:19:03.542569</td>\n",
       "      <td>434745</td>\n",
       "      <td>experiment</td>\n",
       "      <td>view</td>\n",
       "      <td>1</td>\n",
       "    </tr>\n",
       "    <tr>\n",
       "      <th>2</th>\n",
       "      <td>2016-09-24 19:36:00.944135</td>\n",
       "      <td>507599</td>\n",
       "      <td>experiment</td>\n",
       "      <td>view</td>\n",
       "      <td>1</td>\n",
       "    </tr>\n",
       "    <tr>\n",
       "      <th>3</th>\n",
       "      <td>2016-09-24 19:59:02.646620</td>\n",
       "      <td>671993</td>\n",
       "      <td>control</td>\n",
       "      <td>view</td>\n",
       "      <td>1</td>\n",
       "    </tr>\n",
       "    <tr>\n",
       "      <th>4</th>\n",
       "      <td>2016-09-24 20:26:14.466886</td>\n",
       "      <td>536734</td>\n",
       "      <td>experiment</td>\n",
       "      <td>view</td>\n",
       "      <td>1</td>\n",
       "    </tr>\n",
       "  </tbody>\n",
       "</table>\n",
       "</div>"
      ],
      "text/plain": [
       "                    timestamp      id       group action  count\n",
       "0  2016-09-24 17:42:27.839496  804196  experiment   view      1\n",
       "1  2016-09-24 19:19:03.542569  434745  experiment   view      1\n",
       "2  2016-09-24 19:36:00.944135  507599  experiment   view      1\n",
       "3  2016-09-24 19:59:02.646620  671993     control   view      1\n",
       "4  2016-09-24 20:26:14.466886  536734  experiment   view      1"
      ]
     },
     "execution_count": 72,
     "metadata": {},
     "output_type": "execute_result"
    }
   ],
   "source": [
    "df.head()"
   ]
  },
  {
   "cell_type": "code",
   "execution_count": 99,
   "metadata": {},
   "outputs": [
    {
     "data": {
      "text/plain": [
       "(action  click  view\n",
       " id                 \n",
       " 182994    1.0   1.0\n",
       " 183089    0.0   1.0\n",
       " 183248    1.0   1.0\n",
       " 183515    0.0   1.0\n",
       " 183524    0.0   1.0\n",
       " ...       ...   ...\n",
       " 936786    0.0   1.0\n",
       " 937003    0.0   1.0\n",
       " 937073    0.0   1.0\n",
       " 937108    0.0   1.0\n",
       " 937217    1.0   1.0\n",
       " \n",
       " [3332 rows x 2 columns], action  click  view\n",
       " id                 \n",
       " 182988    0.0   1.0\n",
       " 183136    0.0   1.0\n",
       " 183141    1.0   1.0\n",
       " 183283    0.0   1.0\n",
       " 183389    0.0   1.0\n",
       " ...       ...   ...\n",
       " 935382    0.0   1.0\n",
       " 935576    0.0   1.0\n",
       " 935742    1.0   1.0\n",
       " 936129    0.0   1.0\n",
       " 937139    1.0   1.0\n",
       " \n",
       " [2996 rows x 2 columns])"
      ]
     },
     "execution_count": 99,
     "metadata": {},
     "output_type": "execute_result"
    }
   ],
   "source": [
    "control,experiment"
   ]
  },
  {
   "cell_type": "code",
   "execution_count": 106,
   "metadata": {},
   "outputs": [
    {
     "name": "stdout",
     "output_type": "stream",
     "text": [
      "0.2797118847539016 0.3097463284379172\n",
      "0.20153363056420406 0.2138749272820076\n",
      "3332 2996\n"
     ]
    }
   ],
   "source": [
    "# continuing on the path taken from the Flatiron solution...\n",
    "\n",
    "#click rates:\n",
    "cr_ctrl=control['click'].mean()\n",
    "cr_exp=experiment['click'].mean()\n",
    "\n",
    "print(cr_ctrl,cr_exp)\n",
    "\n",
    "# variance\n",
    "var_ctrl=control['click'].var(ddof=1)\n",
    "var_exp=experiment['click'].var(ddof=1)\n",
    "print(var_ctrl,var_exp)\n",
    "\n",
    "# sample_size\n",
    "sz_ctrl = len(control['click'])\n",
    "sz_exp = len(experiment['click'])\n",
    "print(sz_ctrl,sz_exp)\n"
   ]
  },
  {
   "cell_type": "code",
   "execution_count": 109,
   "metadata": {},
   "outputs": [
    {
     "name": "stdout",
     "output_type": "stream",
     "text": [
      "2.615440020788211 6211.149291520621 0.008932805628674156 1.9603459952774753\n"
     ]
    }
   ],
   "source": [
    "# different sizes, different variances, difference means => Welch's t-test\n",
    "# Welch's test\n",
    "a=np.array(control['click'])\n",
    "b=np.array(experiment['click'])\n",
    "\n",
    "# Calculate Welch's t statistic for two samples.\n",
    "numerator = a.mean() - b.mean()\n",
    "denominator = np.sqrt(a.var(ddof=1)/a.size + b.var(ddof=1)/b.size)\n",
    "t_stat=np.abs(numerator/denominator)\n",
    "\n",
    "# Calculate the effective degrees of freedom for two samples.\n",
    "s1 = a.var(ddof=1)\n",
    "s2 = b.var(ddof=1)\n",
    "n1 = a.size\n",
    "n2 = b.size\n",
    "numerator = (s1/n1 + s2/n2)**2\n",
    "denominator = (s1/ n1)**2/(n1 - 1) + (s2/ n2)**2/(n2 - 1)\n",
    "dof=numerator/denominator\n",
    "\n",
    "# p_value - 2 tailed test\n",
    "p = 2*(1-stats.t.cdf(np.abs(t_stat), dof))\n",
    "\n",
    "# t-critical corresponding to alpha=0.05\n",
    "t_crit=stats.t.ppf(.975,dof)\n",
    "\n",
    "print(t_stat,dof,p,t_crit)"
   ]
  },
  {
   "cell_type": "code",
   "execution_count": null,
   "metadata": {},
   "outputs": [],
   "source": [
    "# conclusion:\n",
    "# p_value < alpha\n",
    "# t_stat>t_crit\n",
    "# We can reject H0\n",
    "# We accept Ha is true."
   ]
  },
  {
   "cell_type": "markdown",
   "metadata": {},
   "source": [
    "## Verifying Results\n",
    "\n",
    "One sensible formulation of the data to answer the hypothesis test above would be to create a binary variable representing each individual in the experiment and control group. This binary variable would represent whether or not that individual clicked on the homepage; 1 for they did and 0 if they did not. \n",
    "\n",
    "The variance for the number of successes in a sample of a binomial variable with n observations is given by:\n",
    "\n",
    "## $n\\bullet p (1-p)$\n",
    "\n",
    "Given this, perform 3 steps to verify the results of your statistical test:\n",
    "1. Calculate the expected number of clicks for the experiment group, if it had the same click-through rate as that of the control group. \n",
    "2. Calculate the number of standard deviations that the actual number of clicks was from this estimate. \n",
    "3. Finally, calculate a p-value using the normal distribution based on this z-score."
   ]
  },
  {
   "cell_type": "markdown",
   "metadata": {},
   "source": [
    "### Step 1:\n",
    "Calculate the expected number of clicks for the experiment group, if it had the same click-through rate as that of the control group. "
   ]
  },
  {
   "cell_type": "code",
   "execution_count": null,
   "metadata": {},
   "outputs": [],
   "source": [
    "#Your code here"
   ]
  },
  {
   "cell_type": "markdown",
   "metadata": {},
   "source": [
    "### Step 2:\n",
    "Calculate the number of standard deviations that the actual number of clicks was from this estimate."
   ]
  },
  {
   "cell_type": "code",
   "execution_count": null,
   "metadata": {},
   "outputs": [],
   "source": [
    "#Your code here"
   ]
  },
  {
   "cell_type": "markdown",
   "metadata": {},
   "source": [
    "### Step 3: \n",
    "Finally, calculate a p-value using the normal distribution based on this z-score."
   ]
  },
  {
   "cell_type": "code",
   "execution_count": null,
   "metadata": {},
   "outputs": [],
   "source": [
    "#Your code here"
   ]
  },
  {
   "cell_type": "markdown",
   "metadata": {},
   "source": [
    "### Analysis:\n",
    "\n",
    "Does this result roughly match that of the previous statistical test?\n",
    "\n",
    "> Comment: **Your analysis here**"
   ]
  },
  {
   "cell_type": "markdown",
   "metadata": {},
   "source": [
    "## Summary\n",
    "\n",
    "In this lab, you continued to get more practice designing and conducting AB tests. This required additional work preprocessing and formulating the initial problem in a suitable manner. Additionally, you also saw how to verify results, strengthening your knowledge of binomial variables, and reviewing initial statistical concepts of the central limit theorem, standard deviation, z-scores, and their accompanying p-values."
   ]
  }
 ],
 "metadata": {
  "kernelspec": {
   "display_name": "Python 3",
   "language": "python",
   "name": "python3"
  },
  "language_info": {
   "codemirror_mode": {
    "name": "ipython",
    "version": 3
   },
   "file_extension": ".py",
   "mimetype": "text/x-python",
   "name": "python",
   "nbconvert_exporter": "python",
   "pygments_lexer": "ipython3",
   "version": "3.6.9"
  }
 },
 "nbformat": 4,
 "nbformat_minor": 2
}
